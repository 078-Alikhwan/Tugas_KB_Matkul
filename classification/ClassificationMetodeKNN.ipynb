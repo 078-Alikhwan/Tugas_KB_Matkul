{
 "cells": [
  {
   "cell_type": "markdown",
   "id": "5eff89e7-bd88-48d4-b227-6b24438ad20b",
   "metadata": {},
   "source": [
    "# Metode KNN (K-NEAREST NEIGHBOUR) Classification breast-cancer.csv \n",
    "# Kelompok :\n",
    "# Ricky Novenda Putra / 2009106073\n",
    "# Al Ikhwan Shafa / 2009106078\n",
    "# Sebastian Parande / 2009106084"
   ]
  },
  {
   "cell_type": "markdown",
   "id": "b8da2804-f45c-4d2b-b2f9-4be13ab6266b",
   "metadata": {},
   "source": [
    "<p> Import Package yang dibutuhkan</p>"
   ]
  },
  {
   "cell_type": "code",
   "execution_count": 48,
   "id": "694403cf-4383-4e4a-beb3-bc42586d3d02",
   "metadata": {},
   "outputs": [],
   "source": [
    "import pandas as pd\n",
    "import matplotlib.pyplot as plt\n",
    "import seaborn as sns\n",
    "import numpy as np\n",
    "from sklearn.impute import SimpleImputer\n",
    "from sklearn.model_selection import train_test_split\n",
    "from sklearn.neighbors import KNeighborsClassifier\n",
    "from sklearn.metrics import accuracy_score\n",
    "from sklearn.preprocessing import OrdinalEncoder"
   ]
  },
  {
   "cell_type": "markdown",
   "id": "3876785e-2fa1-483e-9ff0-724f38e7b7a8",
   "metadata": {},
   "source": [
    "<p>Membaca dataset yang telah di download dengan format csv</p>"
   ]
  },
  {
   "cell_type": "code",
   "execution_count": 13,
   "id": "5353bf53-b95b-423c-a756-33abb3e21e03",
   "metadata": {},
   "outputs": [],
   "source": [
    "df = pd.read_csv('breast-cancer.csv')"
   ]
  },
  {
   "cell_type": "markdown",
   "id": "4095a017-d666-49b0-b54f-8b6c7477d6bb",
   "metadata": {},
   "source": [
    "<p>df untuk menampilkan isi yang ada di dalam dataset</p>"
   ]
  },
  {
   "cell_type": "code",
   "execution_count": 14,
   "id": "abd056ce-83be-4f05-9649-40e6b1c191eb",
   "metadata": {},
   "outputs": [
    {
     "data": {
      "text/html": [
       "<div>\n",
       "<style scoped>\n",
       "    .dataframe tbody tr th:only-of-type {\n",
       "        vertical-align: middle;\n",
       "    }\n",
       "\n",
       "    .dataframe tbody tr th {\n",
       "        vertical-align: top;\n",
       "    }\n",
       "\n",
       "    .dataframe thead th {\n",
       "        text-align: right;\n",
       "    }\n",
       "</style>\n",
       "<table border=\"1\" class=\"dataframe\">\n",
       "  <thead>\n",
       "    <tr style=\"text-align: right;\">\n",
       "      <th></th>\n",
       "      <th>Class</th>\n",
       "      <th>age</th>\n",
       "      <th>menopause</th>\n",
       "      <th>tumor-size</th>\n",
       "      <th>inv-nodes</th>\n",
       "      <th>node-caps</th>\n",
       "      <th>deg-malig</th>\n",
       "      <th>breast</th>\n",
       "      <th>breast-quad</th>\n",
       "      <th>irradiat</th>\n",
       "    </tr>\n",
       "  </thead>\n",
       "  <tbody>\n",
       "    <tr>\n",
       "      <th>0</th>\n",
       "      <td>no-recurrence-events</td>\n",
       "      <td>30-39</td>\n",
       "      <td>premeno</td>\n",
       "      <td>30-34</td>\n",
       "      <td>0-2</td>\n",
       "      <td>no</td>\n",
       "      <td>3</td>\n",
       "      <td>left</td>\n",
       "      <td>left_low</td>\n",
       "      <td>no</td>\n",
       "    </tr>\n",
       "    <tr>\n",
       "      <th>1</th>\n",
       "      <td>no-recurrence-events</td>\n",
       "      <td>40-49</td>\n",
       "      <td>premeno</td>\n",
       "      <td>20-24</td>\n",
       "      <td>0-2</td>\n",
       "      <td>no</td>\n",
       "      <td>2</td>\n",
       "      <td>right</td>\n",
       "      <td>right_up</td>\n",
       "      <td>no</td>\n",
       "    </tr>\n",
       "    <tr>\n",
       "      <th>2</th>\n",
       "      <td>no-recurrence-events</td>\n",
       "      <td>40-49</td>\n",
       "      <td>premeno</td>\n",
       "      <td>20-24</td>\n",
       "      <td>0-2</td>\n",
       "      <td>no</td>\n",
       "      <td>2</td>\n",
       "      <td>left</td>\n",
       "      <td>left_low</td>\n",
       "      <td>no</td>\n",
       "    </tr>\n",
       "    <tr>\n",
       "      <th>3</th>\n",
       "      <td>no-recurrence-events</td>\n",
       "      <td>60-69</td>\n",
       "      <td>ge40</td>\n",
       "      <td>15-19</td>\n",
       "      <td>0-2</td>\n",
       "      <td>no</td>\n",
       "      <td>2</td>\n",
       "      <td>right</td>\n",
       "      <td>left_up</td>\n",
       "      <td>no</td>\n",
       "    </tr>\n",
       "    <tr>\n",
       "      <th>4</th>\n",
       "      <td>no-recurrence-events</td>\n",
       "      <td>40-49</td>\n",
       "      <td>premeno</td>\n",
       "      <td>0-4</td>\n",
       "      <td>0-2</td>\n",
       "      <td>no</td>\n",
       "      <td>2</td>\n",
       "      <td>right</td>\n",
       "      <td>right_low</td>\n",
       "      <td>no</td>\n",
       "    </tr>\n",
       "    <tr>\n",
       "      <th>...</th>\n",
       "      <td>...</td>\n",
       "      <td>...</td>\n",
       "      <td>...</td>\n",
       "      <td>...</td>\n",
       "      <td>...</td>\n",
       "      <td>...</td>\n",
       "      <td>...</td>\n",
       "      <td>...</td>\n",
       "      <td>...</td>\n",
       "      <td>...</td>\n",
       "    </tr>\n",
       "    <tr>\n",
       "      <th>281</th>\n",
       "      <td>recurrence-events</td>\n",
       "      <td>30-39</td>\n",
       "      <td>premeno</td>\n",
       "      <td>30-34</td>\n",
       "      <td>0-2</td>\n",
       "      <td>no</td>\n",
       "      <td>2</td>\n",
       "      <td>left</td>\n",
       "      <td>left_up</td>\n",
       "      <td>no</td>\n",
       "    </tr>\n",
       "    <tr>\n",
       "      <th>282</th>\n",
       "      <td>recurrence-events</td>\n",
       "      <td>30-39</td>\n",
       "      <td>premeno</td>\n",
       "      <td>20-24</td>\n",
       "      <td>0-2</td>\n",
       "      <td>no</td>\n",
       "      <td>3</td>\n",
       "      <td>left</td>\n",
       "      <td>left_up</td>\n",
       "      <td>yes</td>\n",
       "    </tr>\n",
       "    <tr>\n",
       "      <th>283</th>\n",
       "      <td>recurrence-events</td>\n",
       "      <td>60-69</td>\n",
       "      <td>ge40</td>\n",
       "      <td>20-24</td>\n",
       "      <td>0-2</td>\n",
       "      <td>no</td>\n",
       "      <td>1</td>\n",
       "      <td>right</td>\n",
       "      <td>left_up</td>\n",
       "      <td>no</td>\n",
       "    </tr>\n",
       "    <tr>\n",
       "      <th>284</th>\n",
       "      <td>recurrence-events</td>\n",
       "      <td>40-49</td>\n",
       "      <td>ge40</td>\n",
       "      <td>30-34</td>\n",
       "      <td>3-5</td>\n",
       "      <td>no</td>\n",
       "      <td>3</td>\n",
       "      <td>left</td>\n",
       "      <td>left_low</td>\n",
       "      <td>no</td>\n",
       "    </tr>\n",
       "    <tr>\n",
       "      <th>285</th>\n",
       "      <td>recurrence-events</td>\n",
       "      <td>50-59</td>\n",
       "      <td>ge40</td>\n",
       "      <td>30-34</td>\n",
       "      <td>3-5</td>\n",
       "      <td>no</td>\n",
       "      <td>3</td>\n",
       "      <td>left</td>\n",
       "      <td>left_low</td>\n",
       "      <td>no</td>\n",
       "    </tr>\n",
       "  </tbody>\n",
       "</table>\n",
       "<p>286 rows × 10 columns</p>\n",
       "</div>"
      ],
      "text/plain": [
       "                    Class    age menopause tumor-size inv-nodes node-caps  \\\n",
       "0    no-recurrence-events  30-39   premeno      30-34       0-2        no   \n",
       "1    no-recurrence-events  40-49   premeno      20-24       0-2        no   \n",
       "2    no-recurrence-events  40-49   premeno      20-24       0-2        no   \n",
       "3    no-recurrence-events  60-69      ge40      15-19       0-2        no   \n",
       "4    no-recurrence-events  40-49   premeno        0-4       0-2        no   \n",
       "..                    ...    ...       ...        ...       ...       ...   \n",
       "281     recurrence-events  30-39   premeno      30-34       0-2        no   \n",
       "282     recurrence-events  30-39   premeno      20-24       0-2        no   \n",
       "283     recurrence-events  60-69      ge40      20-24       0-2        no   \n",
       "284     recurrence-events  40-49      ge40      30-34       3-5        no   \n",
       "285     recurrence-events  50-59      ge40      30-34       3-5        no   \n",
       "\n",
       "     deg-malig breast breast-quad irradiat  \n",
       "0            3   left    left_low       no  \n",
       "1            2  right    right_up       no  \n",
       "2            2   left    left_low       no  \n",
       "3            2  right     left_up       no  \n",
       "4            2  right   right_low       no  \n",
       "..         ...    ...         ...      ...  \n",
       "281          2   left     left_up       no  \n",
       "282          3   left     left_up      yes  \n",
       "283          1  right     left_up       no  \n",
       "284          3   left    left_low       no  \n",
       "285          3   left    left_low       no  \n",
       "\n",
       "[286 rows x 10 columns]"
      ]
     },
     "execution_count": 14,
     "metadata": {},
     "output_type": "execute_result"
    }
   ],
   "source": [
    "df"
   ]
  },
  {
   "cell_type": "markdown",
   "id": "af55a5b1-15f8-46c1-b2c0-2964e47d5e0e",
   "metadata": {},
   "source": [
    "<p>Melihat ukuran dataset</p>"
   ]
  },
  {
   "cell_type": "code",
   "execution_count": 15,
   "id": "a38b594f-e92c-4da5-a1be-9b091ba8b872",
   "metadata": {},
   "outputs": [
    {
     "data": {
      "text/plain": [
       "(286, 10)"
      ]
     },
     "execution_count": 15,
     "metadata": {},
     "output_type": "execute_result"
    }
   ],
   "source": [
    "df.shape"
   ]
  },
  {
   "cell_type": "markdown",
   "id": "df473e7e-5553-49e0-b9b0-68f6591bf7d2",
   "metadata": {},
   "source": [
    "<p>Menampilkan type dari atribut yang ada di dalam dataset</p>"
   ]
  },
  {
   "cell_type": "code",
   "execution_count": 16,
   "id": "32b594ad-f3d4-41b7-a286-bee81a10884c",
   "metadata": {},
   "outputs": [
    {
     "data": {
      "text/plain": [
       "Class          object\n",
       "age            object\n",
       "menopause      object\n",
       "tumor-size     object\n",
       "inv-nodes      object\n",
       "node-caps      object\n",
       "deg-malig       int64\n",
       "breast         object\n",
       "breast-quad    object\n",
       "irradiat       object\n",
       "dtype: object"
      ]
     },
     "execution_count": 16,
     "metadata": {},
     "output_type": "execute_result"
    }
   ],
   "source": [
    "df.dtypes"
   ]
  },
  {
   "cell_type": "code",
   "execution_count": 17,
   "id": "5b81bb3e-90a8-4e68-8cba-97067542dece",
   "metadata": {},
   "outputs": [
    {
     "data": {
      "text/html": [
       "<div>\n",
       "<style scoped>\n",
       "    .dataframe tbody tr th:only-of-type {\n",
       "        vertical-align: middle;\n",
       "    }\n",
       "\n",
       "    .dataframe tbody tr th {\n",
       "        vertical-align: top;\n",
       "    }\n",
       "\n",
       "    .dataframe thead th {\n",
       "        text-align: right;\n",
       "    }\n",
       "</style>\n",
       "<table border=\"1\" class=\"dataframe\">\n",
       "  <thead>\n",
       "    <tr style=\"text-align: right;\">\n",
       "      <th></th>\n",
       "      <th>deg-malig</th>\n",
       "    </tr>\n",
       "  </thead>\n",
       "  <tbody>\n",
       "    <tr>\n",
       "      <th>count</th>\n",
       "      <td>286.000000</td>\n",
       "    </tr>\n",
       "    <tr>\n",
       "      <th>mean</th>\n",
       "      <td>2.048951</td>\n",
       "    </tr>\n",
       "    <tr>\n",
       "      <th>std</th>\n",
       "      <td>0.738217</td>\n",
       "    </tr>\n",
       "    <tr>\n",
       "      <th>min</th>\n",
       "      <td>1.000000</td>\n",
       "    </tr>\n",
       "    <tr>\n",
       "      <th>25%</th>\n",
       "      <td>2.000000</td>\n",
       "    </tr>\n",
       "    <tr>\n",
       "      <th>50%</th>\n",
       "      <td>2.000000</td>\n",
       "    </tr>\n",
       "    <tr>\n",
       "      <th>75%</th>\n",
       "      <td>3.000000</td>\n",
       "    </tr>\n",
       "    <tr>\n",
       "      <th>max</th>\n",
       "      <td>3.000000</td>\n",
       "    </tr>\n",
       "  </tbody>\n",
       "</table>\n",
       "</div>"
      ],
      "text/plain": [
       "        deg-malig\n",
       "count  286.000000\n",
       "mean     2.048951\n",
       "std      0.738217\n",
       "min      1.000000\n",
       "25%      2.000000\n",
       "50%      2.000000\n",
       "75%      3.000000\n",
       "max      3.000000"
      ]
     },
     "execution_count": 17,
     "metadata": {},
     "output_type": "execute_result"
    }
   ],
   "source": [
    "df.describe()"
   ]
  },
  {
   "cell_type": "markdown",
   "id": "13da4680-dad8-43bf-b673-90aef3ee71e9",
   "metadata": {},
   "source": [
    "<p>Melihat ringkasan dataset</p>"
   ]
  },
  {
   "cell_type": "code",
   "execution_count": 18,
   "id": "3cb1048e-245b-4faf-8f94-8c98ff91ccd9",
   "metadata": {},
   "outputs": [
    {
     "name": "stdout",
     "output_type": "stream",
     "text": [
      "<class 'pandas.core.frame.DataFrame'>\n",
      "RangeIndex: 286 entries, 0 to 285\n",
      "Data columns (total 10 columns):\n",
      " #   Column       Non-Null Count  Dtype \n",
      "---  ------       --------------  ----- \n",
      " 0   Class        286 non-null    object\n",
      " 1   age          286 non-null    object\n",
      " 2   menopause    286 non-null    object\n",
      " 3   tumor-size   286 non-null    object\n",
      " 4   inv-nodes    286 non-null    object\n",
      " 5   node-caps    286 non-null    object\n",
      " 6   deg-malig    286 non-null    int64 \n",
      " 7   breast       286 non-null    object\n",
      " 8   breast-quad  286 non-null    object\n",
      " 9   irradiat     286 non-null    object\n",
      "dtypes: int64(1), object(9)\n",
      "memory usage: 22.5+ KB\n"
     ]
    }
   ],
   "source": [
    "df.info()"
   ]
  },
  {
   "cell_type": "markdown",
   "id": "5dd32d51-7eba-4276-9639-93715beca7a7",
   "metadata": {},
   "source": [
    "<p>Distribusi frekuensi nilai dalam variabel</p>"
   ]
  },
  {
   "cell_type": "code",
   "execution_count": 19,
   "id": "898d70ea-2eee-4fd9-a919-1aefb13ae1d1",
   "metadata": {},
   "outputs": [
    {
     "name": "stdout",
     "output_type": "stream",
     "text": [
      "no-recurrence-events    201\n",
      "recurrence-events        85\n",
      "Name: Class, dtype: int64\n",
      "50-59    96\n",
      "40-49    90\n",
      "60-69    57\n",
      "30-39    36\n",
      "70-79     6\n",
      "20-29     1\n",
      "Name: age, dtype: int64\n",
      "premeno    150\n",
      "ge40       129\n",
      "lt40         7\n",
      "Name: menopause, dtype: int64\n",
      "30-34    60\n",
      "25-29    54\n",
      "20-24    50\n",
      "15-19    30\n",
      "10-14    28\n",
      "40-44    22\n",
      "35-39    19\n",
      "0-4       8\n",
      "50-54     8\n",
      "5-9       4\n",
      "45-49     3\n",
      "Name: tumor-size, dtype: int64\n",
      "0-2      213\n",
      "3-5       36\n",
      "6-8       17\n",
      "9-11      10\n",
      "15-17      6\n",
      "12-14      3\n",
      "24-26      1\n",
      "Name: inv-nodes, dtype: int64\n",
      "no     222\n",
      "yes     56\n",
      "?        8\n",
      "Name: node-caps, dtype: int64\n",
      "2    130\n",
      "3     85\n",
      "1     71\n",
      "Name: deg-malig, dtype: int64\n",
      "left     152\n",
      "right    134\n",
      "Name: breast, dtype: int64\n",
      "left_low     110\n",
      "left_up       97\n",
      "right_up      33\n",
      "right_low     24\n",
      "central       21\n",
      "?              1\n",
      "Name: breast-quad, dtype: int64\n",
      "no     218\n",
      "yes     68\n",
      "Name: irradiat, dtype: int64\n"
     ]
    }
   ],
   "source": [
    "for var in df.columns:\n",
    "    print(df[var].value_counts())"
   ]
  },
  {
   "cell_type": "markdown",
   "id": "84d3010d-b64d-4a29-9b1a-b039122e7aad",
   "metadata": {},
   "source": [
    "# Data Preprocessin"
   ]
  },
  {
   "cell_type": "markdown",
   "id": "3f4aea45-d533-4213-97e3-0bac4cde211d",
   "metadata": {},
   "source": [
    "<p>Data preprocessing adalah teknik yang digunakan untuk mengubah data mentah dalam format yang berguna dan efisien. Hal ini diperlukan karena data mentah seringkali tidak lengkap dan memiliki format yang tidak konsisten.</p>\n"
   ]
  },
  {
   "cell_type": "markdown",
   "id": "fef6664a-a58a-41de-966b-283ed8a3b3bb",
   "metadata": {},
   "source": [
    "# Data Cleaning"
   ]
  },
  {
   "cell_type": "markdown",
   "id": "e961ea05-5f29-46e8-9765-9f486a8176b6",
   "metadata": {},
   "source": [
    "<p>Data yang kita gunakan bisa jadi sangat berantakan. Ada informasi yang tak lengkap, ada pula format yang berbeda-beda.Semua ini tentu membuat data itu sulit diolah, dengan begitu kita akan melihat dan membersihkan data jika ada yang kurang atau berantakan.</p>"
   ]
  },
  {
   "cell_type": "code",
   "execution_count": 20,
   "id": "ba984fb5-2455-4932-8afe-48e11faad67a",
   "metadata": {},
   "outputs": [],
   "source": [
    "imputer_mean = SimpleImputer(strategy='mean')"
   ]
  },
  {
   "cell_type": "markdown",
   "id": "9ee4e2b6-071a-4851-9084-c88325acddd0",
   "metadata": {},
   "source": [
    "<p>Melihat nilai yang hilang dalam variabel</p>"
   ]
  },
  {
   "cell_type": "code",
   "execution_count": 21,
   "id": "e6a1ae45-7457-4088-a8e3-b9498e6cc57f",
   "metadata": {},
   "outputs": [
    {
     "data": {
      "text/plain": [
       "Class          0\n",
       "age            0\n",
       "menopause      0\n",
       "tumor-size     0\n",
       "inv-nodes      0\n",
       "node-caps      0\n",
       "deg-malig      0\n",
       "breast         0\n",
       "breast-quad    0\n",
       "irradiat       0\n",
       "dtype: int64"
      ]
     },
     "execution_count": 21,
     "metadata": {},
     "output_type": "execute_result"
    }
   ],
   "source": [
    "df.isnull().sum()"
   ]
  },
  {
   "cell_type": "markdown",
   "id": "447c11a4-c5b3-4031-9255-80401fa27cb2",
   "metadata": {},
   "source": [
    "### Mean"
   ]
  },
  {
   "cell_type": "code",
   "execution_count": 22,
   "id": "5c19372a-c4e2-43d5-b56a-764c6d942562",
   "metadata": {},
   "outputs": [
    {
     "data": {
      "text/plain": [
       "Class          0\n",
       "age            0\n",
       "menopause      0\n",
       "tumor-size     0\n",
       "inv-nodes      0\n",
       "node-caps      0\n",
       "deg-malig      0\n",
       "breast         0\n",
       "breast-quad    0\n",
       "irradiat       0\n",
       "dtype: int64"
      ]
     },
     "execution_count": 22,
     "metadata": {},
     "output_type": "execute_result"
    }
   ],
   "source": [
    "df.dropna(inplace=True)\n",
    "df.isna().sum()"
   ]
  },
  {
   "cell_type": "markdown",
   "id": "6f8812d2-9ac5-4a2b-8e49-82031806bdda",
   "metadata": {},
   "source": [
    "### Data Duplikat"
   ]
  },
  {
   "cell_type": "markdown",
   "id": "290886ac-12c2-42d8-b70e-bc2b2b7f9dbf",
   "metadata": {},
   "source": [
    "<p>Nilai duplikat dapat membuat sebaran datacondong kedalam suatu nilai yang dapat mengacaukan hasil analisis Dataset.</p>"
   ]
  },
  {
   "cell_type": "markdown",
   "id": "94d76de6-63d7-4108-a5a6-c2efbbd2c33b",
   "metadata": {},
   "source": [
    "<p>Melihat data yang duplikat dalam dataset</p>"
   ]
  },
  {
   "cell_type": "code",
   "execution_count": 23,
   "id": "45d82d7f-d8ad-4482-8f14-f2b5c349d964",
   "metadata": {},
   "outputs": [
    {
     "data": {
      "text/plain": [
       "14"
      ]
     },
     "execution_count": 23,
     "metadata": {},
     "output_type": "execute_result"
    }
   ],
   "source": [
    "df.duplicated().sum()"
   ]
  },
  {
   "cell_type": "markdown",
   "id": "2dbf27a9-c15f-4dc8-b6f1-62832ce6c514",
   "metadata": {},
   "source": [
    "<p>Membersih kan data duplikat</p>"
   ]
  },
  {
   "cell_type": "code",
   "execution_count": 24,
   "id": "0080cc0f-1d48-4bdf-b54f-0330b0ea0fa2",
   "metadata": {},
   "outputs": [
    {
     "data": {
      "text/plain": [
       "0"
      ]
     },
     "execution_count": 24,
     "metadata": {},
     "output_type": "execute_result"
    }
   ],
   "source": [
    "df.drop_duplicates(inplace=True)\n",
    "df.duplicated().sum()"
   ]
  },
  {
   "cell_type": "markdown",
   "id": "590f05ee-3046-4c63-ba19-674dace7f7f7",
   "metadata": {},
   "source": [
    "# Data Encoding"
   ]
  },
  {
   "cell_type": "markdown",
   "id": "a4677930-a2cf-48f2-b149-1091e8965f17",
   "metadata": {},
   "source": [
    "<p>Teknik Encoding adalah teknik yang di gunakan untuk mengubah variabel kategorikal menjadi variabel numerik.</p>"
   ]
  },
  {
   "cell_type": "markdown",
   "id": "1f084c71-856c-4510-b25e-a013b2a58a4d",
   "metadata": {},
   "source": [
    "### Ordinal Encoding"
   ]
  },
  {
   "cell_type": "code",
   "execution_count": 25,
   "id": "9287e041-2f95-46ef-9e93-68ab81e32809",
   "metadata": {},
   "outputs": [
    {
     "data": {
      "text/plain": [
       "<bound method NDFrame.head of      Class  age  menopause  tumor-size  inv-nodes  node-caps  deg-malig  \\\n",
       "0      0.0  1.0        2.0         5.0        0.0        1.0        2.0   \n",
       "1      0.0  2.0        2.0         3.0        0.0        1.0        1.0   \n",
       "2      0.0  2.0        2.0         3.0        0.0        1.0        1.0   \n",
       "3      0.0  4.0        0.0         2.0        0.0        1.0        1.0   \n",
       "4      0.0  2.0        2.0         0.0        0.0        1.0        1.0   \n",
       "..     ...  ...        ...         ...        ...        ...        ...   \n",
       "281    1.0  1.0        2.0         5.0        0.0        1.0        1.0   \n",
       "282    1.0  1.0        2.0         3.0        0.0        1.0        2.0   \n",
       "283    1.0  4.0        0.0         3.0        0.0        1.0        0.0   \n",
       "284    1.0  2.0        0.0         5.0        4.0        1.0        2.0   \n",
       "285    1.0  3.0        0.0         5.0        4.0        1.0        2.0   \n",
       "\n",
       "     breast  breast-quad  irradiat  \n",
       "0       0.0          2.0       0.0  \n",
       "1       1.0          5.0       0.0  \n",
       "2       0.0          2.0       0.0  \n",
       "3       1.0          3.0       0.0  \n",
       "4       1.0          4.0       0.0  \n",
       "..      ...          ...       ...  \n",
       "281     0.0          3.0       0.0  \n",
       "282     0.0          3.0       1.0  \n",
       "283     1.0          3.0       0.0  \n",
       "284     0.0          2.0       0.0  \n",
       "285     0.0          2.0       0.0  \n",
       "\n",
       "[272 rows x 10 columns]>"
      ]
     },
     "execution_count": 25,
     "metadata": {},
     "output_type": "execute_result"
    }
   ],
   "source": [
    "encoder_ordinal = OrdinalEncoder()\n",
    "df['Class'] = encoder_ordinal.fit_transform(df[['Class']])\n",
    "df['age'] = encoder_ordinal.fit_transform(df[['age']])\n",
    "df['menopause'] = encoder_ordinal.fit_transform(df[['menopause']])\n",
    "df['tumor-size'] = encoder_ordinal.fit_transform(df[['tumor-size']])\n",
    "df['inv-nodes'] = encoder_ordinal.fit_transform(df[['inv-nodes']])\n",
    "df['node-caps'] = encoder_ordinal.fit_transform(df[['node-caps']])\n",
    "df['deg-malig'] = encoder_ordinal.fit_transform(df[['deg-malig']])\n",
    "df['breast'] = encoder_ordinal.fit_transform(df[['breast']])\n",
    "df['breast-quad'] = encoder_ordinal.fit_transform(df[['breast-quad']])\n",
    "df['irradiat'] = encoder_ordinal.fit_transform(df[['irradiat']])\n",
    "df.head"
   ]
  },
  {
   "cell_type": "markdown",
   "id": "257cdb38-0eaf-4ad4-915a-d55bc7c7232d",
   "metadata": {},
   "source": [
    "<p> Melihat type type data yang terubah</p>"
   ]
  },
  {
   "cell_type": "code",
   "execution_count": 26,
   "id": "581100bf-1e6a-42b1-8804-0258301ad44a",
   "metadata": {},
   "outputs": [
    {
     "data": {
      "text/plain": [
       "Class          float64\n",
       "age            float64\n",
       "menopause      float64\n",
       "tumor-size     float64\n",
       "inv-nodes      float64\n",
       "node-caps      float64\n",
       "deg-malig      float64\n",
       "breast         float64\n",
       "breast-quad    float64\n",
       "irradiat       float64\n",
       "dtype: object"
      ]
     },
     "execution_count": 26,
     "metadata": {},
     "output_type": "execute_result"
    }
   ],
   "source": [
    "df.dtypes"
   ]
  },
  {
   "cell_type": "markdown",
   "id": "ccc00bb6-4ae0-4982-8b99-d369bfacf0a4",
   "metadata": {},
   "source": [
    "# Data Split"
   ]
  },
  {
   "cell_type": "markdown",
   "id": "0b389555-0087-4e09-873e-4062a91667cd",
   "metadata": {},
   "source": [
    "<p>Train/test split adalah salah satu metode yang dapat digunakan untuk mengevaluasi performa model machine learning. Metode evaluasi model ini membagi dataset menjadi dua bagian yakni bagian yang digunakan untuk training data dan untuk testing data dengan proporsi tertentu.</p>"
   ]
  },
  {
   "cell_type": "code",
   "execution_count": 27,
   "id": "2f65beb4-89b2-4a2b-8e40-c7d64b26cf02",
   "metadata": {},
   "outputs": [],
   "source": [
    "x = df.iloc[:,:-1] # Target\n",
    "y = df.iloc[:,-1] # Feature"
   ]
  },
  {
   "cell_type": "markdown",
   "id": "e0f1403d-2599-49f5-b8e2-828f5f2bdb8d",
   "metadata": {},
   "source": [
    "<p>split X and y kedalam training dan testing set</p>"
   ]
  },
  {
   "cell_type": "code",
   "execution_count": 28,
   "id": "e6fa6591-78da-45c7-8c12-a001a079874c",
   "metadata": {},
   "outputs": [],
   "source": [
    "from sklearn.model_selection import train_test_split\n",
    "\n",
    "x_train, x_test, y_train, y_test = train_test_split(x, y, test_size = 0.2, random_state = 0)"
   ]
  },
  {
   "cell_type": "markdown",
   "id": "9b98a1d7-9a63-44fe-b47b-33f888a4108b",
   "metadata": {},
   "source": [
    "<p>Melihat bentuk X_train dan X_test</p>"
   ]
  },
  {
   "cell_type": "code",
   "execution_count": 29,
   "id": "3cb88d93-de50-447f-9a8c-3da224d2ab0e",
   "metadata": {},
   "outputs": [
    {
     "data": {
      "text/plain": [
       "((217, 9), (55, 9))"
      ]
     },
     "execution_count": 29,
     "metadata": {},
     "output_type": "execute_result"
    }
   ],
   "source": [
    "x_train.shape, x_test.shape"
   ]
  },
  {
   "cell_type": "markdown",
   "id": "e18a2a47-6a3c-4574-af08-553d2477907b",
   "metadata": {},
   "source": [
    "<p>Melihat bentuk Y_train dan Y_test</p>"
   ]
  },
  {
   "cell_type": "code",
   "execution_count": 30,
   "id": "fd61933a-8010-48c2-b06b-59815f665605",
   "metadata": {},
   "outputs": [
    {
     "data": {
      "text/plain": [
       "((217,), (55,))"
      ]
     },
     "execution_count": 30,
     "metadata": {},
     "output_type": "execute_result"
    }
   ],
   "source": [
    "y_train.shape, y_test.shape"
   ]
  },
  {
   "cell_type": "markdown",
   "id": "c2aee153-9c24-465a-882c-bf0771925308",
   "metadata": {},
   "source": [
    "# KNN (K-NEAREST NEIGHBOUR)"
   ]
  },
  {
   "cell_type": "markdown",
   "id": "2f229cde-a8bc-451b-917e-49435abeae9d",
   "metadata": {},
   "source": [
    "<p>K-Nearest Neighbour atau algoritma KNN menggunakan algoritma non-parametrik yang mengelompokkan poin data berdasarkan kedekatan dan juga asosiasi mereka dengan data lain. Algoritma KNN mengasumsikan bahwa titik data yang serupa akan selalu bisa ditemukan di sekitarnya.</p>"
   ]
  },
  {
   "cell_type": "code",
   "execution_count": 31,
   "id": "cdd92472-03e6-43da-93a6-03436689e10e",
   "metadata": {},
   "outputs": [
    {
     "data": {
      "text/html": [
       "<div>\n",
       "<style scoped>\n",
       "    .dataframe tbody tr th:only-of-type {\n",
       "        vertical-align: middle;\n",
       "    }\n",
       "\n",
       "    .dataframe tbody tr th {\n",
       "        vertical-align: top;\n",
       "    }\n",
       "\n",
       "    .dataframe thead th {\n",
       "        text-align: right;\n",
       "    }\n",
       "</style>\n",
       "<table border=\"1\" class=\"dataframe\">\n",
       "  <thead>\n",
       "    <tr style=\"text-align: right;\">\n",
       "      <th></th>\n",
       "      <th>Class</th>\n",
       "      <th>age</th>\n",
       "      <th>menopause</th>\n",
       "      <th>tumor-size</th>\n",
       "      <th>inv-nodes</th>\n",
       "      <th>node-caps</th>\n",
       "      <th>deg-malig</th>\n",
       "      <th>breast</th>\n",
       "      <th>breast-quad</th>\n",
       "      <th>irradiat</th>\n",
       "    </tr>\n",
       "  </thead>\n",
       "  <tbody>\n",
       "    <tr>\n",
       "      <th>0</th>\n",
       "      <td>0.0</td>\n",
       "      <td>1.0</td>\n",
       "      <td>2.0</td>\n",
       "      <td>5.0</td>\n",
       "      <td>0.0</td>\n",
       "      <td>1.0</td>\n",
       "      <td>2.0</td>\n",
       "      <td>0.0</td>\n",
       "      <td>2.0</td>\n",
       "      <td>0.0</td>\n",
       "    </tr>\n",
       "    <tr>\n",
       "      <th>1</th>\n",
       "      <td>0.0</td>\n",
       "      <td>2.0</td>\n",
       "      <td>2.0</td>\n",
       "      <td>3.0</td>\n",
       "      <td>0.0</td>\n",
       "      <td>1.0</td>\n",
       "      <td>1.0</td>\n",
       "      <td>1.0</td>\n",
       "      <td>5.0</td>\n",
       "      <td>0.0</td>\n",
       "    </tr>\n",
       "    <tr>\n",
       "      <th>2</th>\n",
       "      <td>0.0</td>\n",
       "      <td>2.0</td>\n",
       "      <td>2.0</td>\n",
       "      <td>3.0</td>\n",
       "      <td>0.0</td>\n",
       "      <td>1.0</td>\n",
       "      <td>1.0</td>\n",
       "      <td>0.0</td>\n",
       "      <td>2.0</td>\n",
       "      <td>0.0</td>\n",
       "    </tr>\n",
       "    <tr>\n",
       "      <th>3</th>\n",
       "      <td>0.0</td>\n",
       "      <td>4.0</td>\n",
       "      <td>0.0</td>\n",
       "      <td>2.0</td>\n",
       "      <td>0.0</td>\n",
       "      <td>1.0</td>\n",
       "      <td>1.0</td>\n",
       "      <td>1.0</td>\n",
       "      <td>3.0</td>\n",
       "      <td>0.0</td>\n",
       "    </tr>\n",
       "    <tr>\n",
       "      <th>4</th>\n",
       "      <td>0.0</td>\n",
       "      <td>2.0</td>\n",
       "      <td>2.0</td>\n",
       "      <td>0.0</td>\n",
       "      <td>0.0</td>\n",
       "      <td>1.0</td>\n",
       "      <td>1.0</td>\n",
       "      <td>1.0</td>\n",
       "      <td>4.0</td>\n",
       "      <td>0.0</td>\n",
       "    </tr>\n",
       "  </tbody>\n",
       "</table>\n",
       "</div>"
      ],
      "text/plain": [
       "   Class  age  menopause  tumor-size  inv-nodes  node-caps  deg-malig  breast  \\\n",
       "0    0.0  1.0        2.0         5.0        0.0        1.0        2.0     0.0   \n",
       "1    0.0  2.0        2.0         3.0        0.0        1.0        1.0     1.0   \n",
       "2    0.0  2.0        2.0         3.0        0.0        1.0        1.0     0.0   \n",
       "3    0.0  4.0        0.0         2.0        0.0        1.0        1.0     1.0   \n",
       "4    0.0  2.0        2.0         0.0        0.0        1.0        1.0     1.0   \n",
       "\n",
       "   breast-quad  irradiat  \n",
       "0          2.0       0.0  \n",
       "1          5.0       0.0  \n",
       "2          2.0       0.0  \n",
       "3          3.0       0.0  \n",
       "4          4.0       0.0  "
      ]
     },
     "execution_count": 31,
     "metadata": {},
     "output_type": "execute_result"
    }
   ],
   "source": [
    "df.head(5)"
   ]
  },
  {
   "cell_type": "code",
   "execution_count": 32,
   "id": "d92ada03-7de3-4275-b249-23012de1ea01",
   "metadata": {},
   "outputs": [
    {
     "name": "stdout",
     "output_type": "stream",
     "text": [
      "<class 'pandas.core.frame.DataFrame'>\n",
      "Int64Index: 272 entries, 0 to 285\n",
      "Data columns (total 10 columns):\n",
      " #   Column       Non-Null Count  Dtype  \n",
      "---  ------       --------------  -----  \n",
      " 0   Class        272 non-null    float64\n",
      " 1   age          272 non-null    float64\n",
      " 2   menopause    272 non-null    float64\n",
      " 3   tumor-size   272 non-null    float64\n",
      " 4   inv-nodes    272 non-null    float64\n",
      " 5   node-caps    272 non-null    float64\n",
      " 6   deg-malig    272 non-null    float64\n",
      " 7   breast       272 non-null    float64\n",
      " 8   breast-quad  272 non-null    float64\n",
      " 9   irradiat     272 non-null    float64\n",
      "dtypes: float64(10)\n",
      "memory usage: 23.4 KB\n"
     ]
    }
   ],
   "source": [
    "df.info()"
   ]
  },
  {
   "cell_type": "code",
   "execution_count": 33,
   "id": "4690556a-8c13-4691-a243-14c34c068493",
   "metadata": {},
   "outputs": [],
   "source": [
    "x = df[['Class','age','menopause','tumor-size','inv-nodes','node-caps','deg-malig','breast','breast-quad']]\n",
    "y = df['irradiat']\n",
    "x_train, x_test, y_train, y_test = train_test_split(x, y, random_state=0, test_size=.2)"
   ]
  },
  {
   "cell_type": "code",
   "execution_count": 34,
   "id": "d62e34a5-ebbd-4984-810c-33f13200261b",
   "metadata": {},
   "outputs": [],
   "source": [
    "classifier = KNeighborsClassifier(n_neighbors = 5)"
   ]
  },
  {
   "cell_type": "code",
   "execution_count": 35,
   "id": "60438269-c238-41d3-b6b4-85aa5fa6233f",
   "metadata": {},
   "outputs": [
    {
     "data": {
      "text/html": [
       "<style>#sk-container-id-1 {color: black;background-color: white;}#sk-container-id-1 pre{padding: 0;}#sk-container-id-1 div.sk-toggleable {background-color: white;}#sk-container-id-1 label.sk-toggleable__label {cursor: pointer;display: block;width: 100%;margin-bottom: 0;padding: 0.3em;box-sizing: border-box;text-align: center;}#sk-container-id-1 label.sk-toggleable__label-arrow:before {content: \"▸\";float: left;margin-right: 0.25em;color: #696969;}#sk-container-id-1 label.sk-toggleable__label-arrow:hover:before {color: black;}#sk-container-id-1 div.sk-estimator:hover label.sk-toggleable__label-arrow:before {color: black;}#sk-container-id-1 div.sk-toggleable__content {max-height: 0;max-width: 0;overflow: hidden;text-align: left;background-color: #f0f8ff;}#sk-container-id-1 div.sk-toggleable__content pre {margin: 0.2em;color: black;border-radius: 0.25em;background-color: #f0f8ff;}#sk-container-id-1 input.sk-toggleable__control:checked~div.sk-toggleable__content {max-height: 200px;max-width: 100%;overflow: auto;}#sk-container-id-1 input.sk-toggleable__control:checked~label.sk-toggleable__label-arrow:before {content: \"▾\";}#sk-container-id-1 div.sk-estimator input.sk-toggleable__control:checked~label.sk-toggleable__label {background-color: #d4ebff;}#sk-container-id-1 div.sk-label input.sk-toggleable__control:checked~label.sk-toggleable__label {background-color: #d4ebff;}#sk-container-id-1 input.sk-hidden--visually {border: 0;clip: rect(1px 1px 1px 1px);clip: rect(1px, 1px, 1px, 1px);height: 1px;margin: -1px;overflow: hidden;padding: 0;position: absolute;width: 1px;}#sk-container-id-1 div.sk-estimator {font-family: monospace;background-color: #f0f8ff;border: 1px dotted black;border-radius: 0.25em;box-sizing: border-box;margin-bottom: 0.5em;}#sk-container-id-1 div.sk-estimator:hover {background-color: #d4ebff;}#sk-container-id-1 div.sk-parallel-item::after {content: \"\";width: 100%;border-bottom: 1px solid gray;flex-grow: 1;}#sk-container-id-1 div.sk-label:hover label.sk-toggleable__label {background-color: #d4ebff;}#sk-container-id-1 div.sk-serial::before {content: \"\";position: absolute;border-left: 1px solid gray;box-sizing: border-box;top: 0;bottom: 0;left: 50%;z-index: 0;}#sk-container-id-1 div.sk-serial {display: flex;flex-direction: column;align-items: center;background-color: white;padding-right: 0.2em;padding-left: 0.2em;position: relative;}#sk-container-id-1 div.sk-item {position: relative;z-index: 1;}#sk-container-id-1 div.sk-parallel {display: flex;align-items: stretch;justify-content: center;background-color: white;position: relative;}#sk-container-id-1 div.sk-item::before, #sk-container-id-1 div.sk-parallel-item::before {content: \"\";position: absolute;border-left: 1px solid gray;box-sizing: border-box;top: 0;bottom: 0;left: 50%;z-index: -1;}#sk-container-id-1 div.sk-parallel-item {display: flex;flex-direction: column;z-index: 1;position: relative;background-color: white;}#sk-container-id-1 div.sk-parallel-item:first-child::after {align-self: flex-end;width: 50%;}#sk-container-id-1 div.sk-parallel-item:last-child::after {align-self: flex-start;width: 50%;}#sk-container-id-1 div.sk-parallel-item:only-child::after {width: 0;}#sk-container-id-1 div.sk-dashed-wrapped {border: 1px dashed gray;margin: 0 0.4em 0.5em 0.4em;box-sizing: border-box;padding-bottom: 0.4em;background-color: white;}#sk-container-id-1 div.sk-label label {font-family: monospace;font-weight: bold;display: inline-block;line-height: 1.2em;}#sk-container-id-1 div.sk-label-container {text-align: center;}#sk-container-id-1 div.sk-container {/* jupyter's `normalize.less` sets `[hidden] { display: none; }` but bootstrap.min.css set `[hidden] { display: none !important; }` so we also need the `!important` here to be able to override the default hidden behavior on the sphinx rendered scikit-learn.org. See: https://github.com/scikit-learn/scikit-learn/issues/21755 */display: inline-block !important;position: relative;}#sk-container-id-1 div.sk-text-repr-fallback {display: none;}</style><div id=\"sk-container-id-1\" class=\"sk-top-container\"><div class=\"sk-text-repr-fallback\"><pre>KNeighborsClassifier()</pre><b>In a Jupyter environment, please rerun this cell to show the HTML representation or trust the notebook. <br />On GitHub, the HTML representation is unable to render, please try loading this page with nbviewer.org.</b></div><div class=\"sk-container\" hidden><div class=\"sk-item\"><div class=\"sk-estimator sk-toggleable\"><input class=\"sk-toggleable__control sk-hidden--visually\" id=\"sk-estimator-id-1\" type=\"checkbox\" checked><label for=\"sk-estimator-id-1\" class=\"sk-toggleable__label sk-toggleable__label-arrow\">KNeighborsClassifier</label><div class=\"sk-toggleable__content\"><pre>KNeighborsClassifier()</pre></div></div></div></div></div>"
      ],
      "text/plain": [
       "KNeighborsClassifier()"
      ]
     },
     "execution_count": 35,
     "metadata": {},
     "output_type": "execute_result"
    }
   ],
   "source": [
    "classifier.fit(x_train,y_train)"
   ]
  },
  {
   "cell_type": "code",
   "execution_count": 36,
   "id": "aa58cfa4-e36d-4e4e-8a2d-8777e9a8fd45",
   "metadata": {},
   "outputs": [],
   "source": [
    "predicted_value = classifier.predict(x_test)\n",
    "accuracy = accuracy_score(y_test, predicted_value)"
   ]
  },
  {
   "cell_type": "code",
   "execution_count": 37,
   "id": "5acbe5f6-b52c-4280-ab0b-b6e284a13a7e",
   "metadata": {},
   "outputs": [
    {
     "name": "stdout",
     "output_type": "stream",
     "text": [
      "Hasil Prediksi: [0. 1. 0. 0. 0. 1. 0. 0. 0. 0. 0. 1. 0. 0. 0. 0. 1. 1. 0. 0. 0. 0. 0. 0.\n",
      " 0. 0. 0. 1. 0. 1. 0. 1. 0. 0. 1. 0. 0. 0. 0. 0. 0. 0. 0. 0. 0. 0. 0. 0.\n",
      " 0. 0. 0. 0. 0. 0. 0.]\n",
      "Class: 228    0.0\n",
      "271    1.0\n",
      "212    0.0\n",
      "118    0.0\n",
      "249    0.0\n",
      "170    1.0\n",
      "92     0.0\n",
      "192    0.0\n",
      "56     0.0\n",
      "256    1.0\n",
      "221    0.0\n",
      "183    1.0\n",
      "220    0.0\n",
      "134    1.0\n",
      "101    0.0\n",
      "15     0.0\n",
      "8      0.0\n",
      "161    0.0\n",
      "60     0.0\n",
      "186    0.0\n",
      "46     0.0\n",
      "124    0.0\n",
      "218    0.0\n",
      "169    1.0\n",
      "64     0.0\n",
      "7      0.0\n",
      "95     0.0\n",
      "246    1.0\n",
      "211    0.0\n",
      "266    0.0\n",
      "153    1.0\n",
      "126    0.0\n",
      "107    0.0\n",
      "200    0.0\n",
      "74     0.0\n",
      "146    1.0\n",
      "241    0.0\n",
      "85     0.0\n",
      "65     0.0\n",
      "270    0.0\n",
      "105    0.0\n",
      "210    0.0\n",
      "181    1.0\n",
      "110    0.0\n",
      "28     0.0\n",
      "234    1.0\n",
      "198    1.0\n",
      "191    1.0\n",
      "229    1.0\n",
      "38     0.0\n",
      "253    0.0\n",
      "145    1.0\n",
      "20     0.0\n",
      "77     0.0\n",
      "178    1.0\n",
      "Name: irradiat, dtype: float64\n",
      "Akurasi: 0.6909090909090909\n"
     ]
    }
   ],
   "source": [
    "print(f'Hasil Prediksi: {predicted_value}',\n",
    "     f'Class: {y_test}',\n",
    "     f'Akurasi: {accuracy}',\n",
    "     sep = '\\n'\n",
    ")"
   ]
  },
  {
   "cell_type": "code",
   "execution_count": 38,
   "id": "4c585d52-6c81-4693-bef1-a2b5bedc1943",
   "metadata": {},
   "outputs": [
    {
     "data": {
      "text/plain": [
       "0.6909090909090909"
      ]
     },
     "execution_count": 38,
     "metadata": {},
     "output_type": "execute_result"
    }
   ],
   "source": [
    "classifier.score(x_test,y_test)"
   ]
  },
  {
   "cell_type": "markdown",
   "id": "3c01f2df-2581-476a-bf6a-58c28ed6c2ab",
   "metadata": {},
   "source": [
    "# Visualisasi Data"
   ]
  },
  {
   "cell_type": "markdown",
   "id": "e77f3874-b919-4b07-86dd-bda1b627fdfc",
   "metadata": {},
   "source": [
    "## Box Plot"
   ]
  },
  {
   "cell_type": "code",
   "execution_count": 39,
   "id": "893188a9-df20-4ed2-8b02-34b1580b7c0a",
   "metadata": {},
   "outputs": [
    {
     "data": {
      "image/png": "[encoded data removed]",
      "text/plain": [
       "<Figure size 640x480 with 1 Axes>"
      ]
     },
     "metadata": {},
     "output_type": "display_data"
    }
   ],
   "source": [
    "sns.boxplot(x= df['Class'], y=df['tumor-size'])\n",
    "plt.show()"
   ]
  },
  {
   "cell_type": "markdown",
   "id": "49630a08-fcb2-45b2-9a54-c8e90cedfb45",
   "metadata": {},
   "source": [
    "## Grafik Batang"
   ]
  },
  {
   "cell_type": "code",
   "execution_count": 47,
   "id": "859f1335-c0e3-4a86-ab5b-02960f1ffc17",
   "metadata": {},
   "outputs": [
    {
     "data": {
      "image/png": "[encoded data removed]",
      "text/plain": [
       "<Figure size 1000x2000 with 10 Axes>"
      ]
     },
     "metadata": {},
     "output_type": "display_data"
    }
   ],
   "source": [
    "plt.rcParams['figure.figsize']=(10,20)\n",
    "df.plot(kind='hist', bins=10, subplots=True, layout=(5,2), sharex=False, sharey=False)\n",
    "plt.show()"
   ]
  },
  {
   "cell_type": "code",
   "execution_count": null,
   "id": "f398209a-b948-46d2-ba03-4e0bc5d3f899",
   "metadata": {},
   "outputs": [],
   "source": []
  },
  {
   "cell_type": "code",
   "execution_count": null,
   "id": "24a86a89-72cf-4877-a614-f7caa97f7642",
   "metadata": {},
   "outputs": [],
   "source": []
  }
 ],
 "metadata": {
  "kernelspec": {
   "display_name": "Python 3 (ipykernel)",
   "language": "python",
   "name": "python3"
  },
  "language_info": {
   "codemirror_mode": {
    "name": "ipython",
    "version": 3
   },
   "file_extension": ".py",
   "mimetype": "text/x-python",
   "name": "python",
   "nbconvert_exporter": "python",
   "pygments_lexer": "ipython3",
   "version": "3.10.7"
  }
 },
 "nbformat": 4,
 "nbformat_minor": 5
}
